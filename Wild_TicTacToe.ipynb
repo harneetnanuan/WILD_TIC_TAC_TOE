{
  "cells": [
    {
      "cell_type": "markdown",
      "metadata": {
        "id": "thuNpBzBMzAb"
      },
      "source": [
        "## Mini-Project 4 (Part II): Solving Wild Tic-Tac-Toe Using Minimax\n",
        "\n",
        "\n",
        "#### CSC 215 Artificial Intelligence\n",
        "\n",
        "#### Dr. Haiquan Chen, California State University, Sacramento"
      ]
    },
    {
      "cell_type": "code",
      "execution_count": null,
      "metadata": {
        "id": "gAXEpgbSMzAe"
      },
      "outputs": [],
      "source": [
        "import random\n",
        "import time\n",
        "\n",
        "current = []\n",
        "current_P1=[]\n",
        "current_P2=[]\n",
        "def show(board, player):\n",
        "    print(player, \":\\n\")\n",
        "    for i in range(3):\n",
        "        for j in range(9):\n",
        "            if j // 3 == i:\n",
        "                print(\" \", board[j], end=\"  |\")\n",
        "        print()\n",
        "        print(\"------------------\")\n",
        "\n",
        "\n",
        "def check_line(char, pos1, pos2, pos3):\n",
        "    return pos1 == pos2 == pos3 == char\n",
        "\n",
        "\n",
        "def check_all(board, char):\n",
        "    if check_line(char, board[0], board[1], board[2]):\n",
        "        return True\n",
        "    elif check_line(char, board[3], board[4], board[5]):\n",
        "        return True\n",
        "    elif check_line(char, board[6], board[7], board[8]):\n",
        "        return True\n",
        "    elif check_line(char, board[0], board[3], board[6]):\n",
        "        return True\n",
        "    elif check_line(char, board[1], board[4], board[7]):\n",
        "        return True\n",
        "    elif check_line(char, board[2], board[5], board[8]):\n",
        "        return True\n",
        "    elif check_line(char, board[0], board[4], board[8]):\n",
        "        return True\n",
        "    elif check_line(char, board[2], board[4], board[6]):\n",
        "        return True\n",
        "    else:\n",
        "        return False\n",
        "\n",
        "\n",
        "def check_draw(board):\n",
        "    return set(board) == {\"o\", \"x\"}\n",
        "\n",
        "\n",
        "def check_game_over(board, player):\n",
        "    if check_all(board, \"x\") or check_all(board, \"o\"):\n",
        "        if player == \"P1\":\n",
        "            return -10          # this should be -10 not 10\n",
        "        elif player == \"P2\":\n",
        "            return 10           # this should be 10 not -10\n",
        "    elif check_draw(board):\n",
        "        return 0\n",
        "    else:\n",
        "        return False\n",
        "\n"
      ]
    },
    {
      "cell_type": "code",
      "execution_count": null,
      "metadata": {
        "id": "RJVe9jfTbcF8"
      },
      "outputs": [],
      "source": [
        "def minimax(board, player, value):    # return the minimax score of a node\n",
        "\n",
        "    global current\n",
        "    # global current_P1\n",
        "    # current_P1=current\n",
        "    # global current_P2\n",
        "    # current_P2=current\n",
        "    # print('current', current)\n",
        "    # print('currentP1', current_P1)\n",
        "    # print('currentP2', current_P2)\n",
        "    current_score = check_game_over(board,player)\n",
        "\n",
        "    if current_score is not False:\n",
        "        return current_score\n",
        "\n",
        "    # if the game is not over, do the following\n",
        "    scores = []\n",
        "    moves = []\n",
        "    # x_win = False\n",
        "    # o_win = False\n",
        "    other_player = \"P1\" if player == \"P2\" else \"P2\"\n",
        "    for i in range(9):\n",
        "      # checking if the place is available\n",
        "      if board[i] == i:\n",
        "        # assigning the empty space to the player\n",
        "        board[i] = value\n",
        "        # calling the best move function again on the modified board for the other player to play ( RECURSION )\n",
        "        node_score=best_move(board, other_player)\n",
        "        # restoring the state of the board\n",
        "        board[i] = i\n",
        "        # add the score and move to the lists\n",
        "        scores.append(node_score)\n",
        "        # adding the move to the list\n",
        "        moves.append(i)\n",
        "\n",
        "    if player == \"P1\":\n",
        "       # Find the move with the highest score.   Add that move to current and return that score.\n",
        "      position = scores.index(max(scores))\n",
        "      # adding the highest scoring state of the board to the current\n",
        "      current.append(board[:moves[position]] + [value] + board[moves[position] + 1:])\n",
        "      # returning the min of scores\n",
        "      return max(scores)\n",
        "\n",
        "    elif player == \"P2\":\n",
        "      # Find the move with the lowest score.   Add that move to current and return that score.\n",
        "        position = scores.index(min(scores))\n",
        "      # adding the lowest scoring state of the board to the current\n",
        "        current.append(board[:moves[position]] + [value] + board[moves[position] + 1:])\n",
        "      # returning the min of scores\n",
        "        return min(scores)\n"
      ]
    },
    {
      "cell_type": "code",
      "execution_count": null,
      "metadata": {
        "id": "BJSSGnLOcCTu"
      },
      "outputs": [],
      "source": [
        "def best_move(board, player): # to select the best move out of the two given choices to a player x and o\n",
        "# declaring the choices\n",
        "  choices=['x','o']\n",
        "# to keep track of the outcome of both x and o\n",
        "  result=[]\n",
        "# to keep track of the current returned by both x an o\n",
        "  local = []\n",
        "# common current list to retain the state of the board\n",
        "  global current\n",
        "# setting the current to initial state before every call\n",
        "  current=[]\n",
        "# iterating through choices and calling the minimax function for both\n",
        "  for value in choices:\n",
        "    result.append(minimax(board, player, value))\n",
        "    local.append(current)\n",
        "\n",
        "  if player=='P1':\n",
        "# finding the move with the highest score and adding it to the current\n",
        "    final_score=max(result)\n",
        "    ind=result.index(final_score)\n",
        "# adding the corresponding current to the global current to keep track\n",
        "    current = local[ind]\n",
        "  else:\n",
        "# finding the move with the lowest score and adding it to the current\n",
        "    final_score=min(result)\n",
        "    ind=result.index(final_score)\n",
        "    current = local[ind]\n",
        "# returning the final score\n",
        "  return final_score\n",
        ""
      ]
    },
    {
      "cell_type": "markdown",
      "metadata": {
        "id": "LADP4dT1MzAj"
      },
      "source": [
        "## Optimal vs Optimal"
      ]
    },
    {
      "cell_type": "code",
      "execution_count": null,
      "metadata": {
        "id": "Qcp_bycJMzAj"
      },
      "outputs": [],
      "source": [
        "list_of_10_runs=[]\n",
        "def optimal_vs_optimal():\n",
        "    global current\n",
        "    board = [0, 1, 2, 3, 4, 5, 6, 7, 8]\n",
        "    current = []\n",
        "    print(\"Player 1 and Player 2 Both play optimally.\\n \")\n",
        "    print(\"If both players play optimally, the first player can always win if the middle cell is chosen as his/her first move\")\n",
        "    show(board, \"Board\")\n",
        "    curr = [\"P1\", \"P2\"]\n",
        "\n",
        "\n",
        "    # board[0] = 'x'\n",
        "    # show(board, \"P1\")\n",
        "    # print()\n",
        "    # i = 1\n",
        "\n",
        "\n",
        "    i = 0\n",
        "    while True:\n",
        "        # print()\n",
        "        best_move(board, curr[i])\n",
        "        show(current[len(current) - 1], curr[i])\n",
        "        board = current[len(current) - 1]\n",
        "        # print()\n",
        "        if check_all(board, \"x\") or check_all(board, \"o\"):\n",
        "\n",
        "            # list_of_10_runs.append(curr[i] + \" Wins!\")\n",
        "            print(curr[i] + \" Wins!\")\n",
        "            return curr[i]\n",
        "        elif check_draw(board):\n",
        "            # list_of_10_runs.append(\"Draw!\")\n",
        "            print(\"Draw!\")\n",
        "            return \"Draw\"\n",
        "        i = (i + 1) % 2\n",
        "\n",
        "# start_time = time.time()\n",
        "# for i in range(10):\n",
        "#     optimal_vs_optimal()\n",
        "\n",
        "\n",
        "# print(\"\\nSeconds Elapsed:\", time.time() - start_time)\n",
        "# print(list_of_10_runs )"
      ]
    },
    {
      "cell_type": "code",
      "execution_count": null,
      "metadata": {
        "colab": {
          "background_save": true,
          "base_uri": "https://localhost:8080/"
        },
        "id": "7_ctju9FMzAk",
        "outputId": "6a0c5920-46b7-4785-f390-0af6772355df"
      },
      "outputs": [
        {
          "name": "stdout",
          "output_type": "stream",
          "text": [
            "Player 1 and Player 2 Both play optimally.\n",
            " \n",
            "If both players play optimally, the first player can always win if the middle cell is chosen as his/her first move\n",
            "Board :\n",
            "\n",
            "  0  |  1  |  2  |\n",
            "------------------\n",
            "  3  |  4  |  5  |\n",
            "------------------\n",
            "  6  |  7  |  8  |\n",
            "------------------\n",
            "P1 :\n",
            "\n",
            "  0  |  1  |  2  |\n",
            "------------------\n",
            "  3  |  x  |  5  |\n",
            "------------------\n",
            "  6  |  7  |  8  |\n",
            "------------------\n",
            "P2 :\n",
            "\n",
            "  x  |  1  |  2  |\n",
            "------------------\n",
            "  3  |  x  |  5  |\n",
            "------------------\n",
            "  6  |  7  |  8  |\n",
            "------------------\n",
            "P1 :\n",
            "\n",
            "  x  |  1  |  2  |\n",
            "------------------\n",
            "  3  |  x  |  5  |\n",
            "------------------\n",
            "  6  |  7  |  x  |\n",
            "------------------\n",
            "P1 Wins!\n"
          ]
        },
        {
          "data": {
            "application/vnd.google.colaboratory.intrinsic+json": {
              "type": "string"
            },
            "text/plain": [
              "'P1'"
            ]
          },
          "execution_count": 5,
          "metadata": {},
          "output_type": "execute_result"
        }
      ],
      "source": [
        "optimal_vs_optimal()"
      ]
    },
    {
      "cell_type": "code",
      "execution_count": null,
      "metadata": {
        "colab": {
          "base_uri": "https://localhost:8080/",
          "height": 764
        },
        "id": "okRjLILlSKhP",
        "outputId": "a6a415e2-ce41-4846-e59b-96ebb32d5755"
      },
      "outputs": [
        {
          "name": "stdout",
          "output_type": "stream",
          "text": [
            "Player 1 and Player 2 Both play optimally.\n",
            " \n",
            "If both players play optimally, the first player can always win if the middle cell is chosen as his/her first move\n",
            "Board :\n",
            "\n",
            "  0  |  1  |  2  |\n",
            "------------------\n",
            "  3  |  4  |  5  |\n",
            "------------------\n",
            "  6  |  7  |  8  |\n",
            "------------------\n",
            "\n",
            "P1 :\n",
            "\n",
            "  0  |  1  |  2  |\n",
            "------------------\n",
            "  3  |  x  |  5  |\n",
            "------------------\n",
            "  6  |  7  |  8  |\n",
            "------------------\n",
            "\n",
            "\n",
            "P2 :\n",
            "\n",
            "  x  |  1  |  2  |\n",
            "------------------\n",
            "  3  |  x  |  5  |\n",
            "------------------\n",
            "  6  |  7  |  8  |\n",
            "------------------\n",
            "\n",
            "\n",
            "P1 :\n",
            "\n",
            "  x  |  1  |  2  |\n",
            "------------------\n",
            "  3  |  x  |  5  |\n",
            "------------------\n",
            "  6  |  7  |  x  |\n",
            "------------------\n",
            "\n",
            "P1 Wins!\n"
          ]
        },
        {
          "data": {
            "application/vnd.google.colaboratory.intrinsic+json": {
              "type": "string"
            },
            "text/plain": [
              "'P1'"
            ]
          },
          "execution_count": 10,
          "metadata": {},
          "output_type": "execute_result"
        }
      ],
      "source": [
        "optimal_vs_optimal()"
      ]
    },
    {
      "cell_type": "markdown",
      "metadata": {
        "id": "9E_w1SNPMzAk"
      },
      "source": [
        "## Random vs Optimal"
      ]
    },
    {
      "cell_type": "code",
      "execution_count": null,
      "metadata": {
        "id": "WHSRQpvtMzAk"
      },
      "outputs": [],
      "source": [
        "def random_vs_optimal():\n",
        "    global current\n",
        "    board = [0, 1, 2, 3, 4, 5, 6, 7, 8]\n",
        "    current = []\n",
        "    print(\"Player 1 plays randomly, and Player 2 plays optimally.\\n\")\n",
        "    show(board, \"Board\")\n",
        "    print()\n",
        "    curr = [\"P1\", \"P2\"]\n",
        "    i = 1\n",
        "    while True:\n",
        "        print()\n",
        "        if curr[i] == \"P1\":\n",
        "            valid_choice = [i for i in range(9) if board[i] != \"x\" and board[i] != \"o\"]\n",
        "            ran = valid_choice[int(random.random() * len(valid_choice))]\n",
        "            ran2 = int(random.random() * 2)\n",
        "            if ran2 == 0:\n",
        "                board[ran] = \"x\"\n",
        "            elif ran2 == 1:\n",
        "                board[ran] = \"o\"\n",
        "            show(board, \"P1\")\n",
        "        elif curr[i] == \"P2\":\n",
        "            best_move(board, \"P2\")\n",
        "            show(current[len(current) - 1], \"P2\")\n",
        "            board = current[len(current) - 1]\n",
        "        print()\n",
        "        if check_all(board, \"x\") or check_all(board, \"o\"):\n",
        "            print(curr[i] + \" Wins!\")\n",
        "            return curr[i]\n",
        "        elif check_draw(board):\n",
        "            print(\"Draw!\")\n",
        "            return \"Draw\"\n",
        "        i = (i + 1) % 2\n",
        "\n",
        "\n",
        "#start_time = time.time()\n",
        "#random_vs_optimal()\n",
        "#print(\"\\nSeconds Elapsed:\", time.time() - start_time)"
      ]
    },
    {
      "cell_type": "code",
      "execution_count": null,
      "metadata": {
        "colab": {
          "base_uri": "https://localhost:8080/",
          "height": 764
        },
        "id": "smeuNWqTMzAl",
        "outputId": "082acc4c-7895-45e8-e286-224a9b9b7320"
      },
      "outputs": [
        {
          "name": "stdout",
          "output_type": "stream",
          "text": [
            "Player 1 plays randomly, and Player 2 plays optimally.\n",
            "\n",
            "Board :\n",
            "\n",
            "  0  |  1  |  2  |\n",
            "------------------\n",
            "  3  |  4  |  5  |\n",
            "------------------\n",
            "  6  |  7  |  8  |\n",
            "------------------\n",
            "\n",
            "\n",
            "P2 :\n",
            "\n",
            "  0  |  1  |  2  |\n",
            "------------------\n",
            "  3  |  x  |  5  |\n",
            "------------------\n",
            "  6  |  7  |  8  |\n",
            "------------------\n",
            "\n",
            "\n",
            "P1 :\n",
            "\n",
            "  0  |  1  |  2  |\n",
            "------------------\n",
            "  3  |  x  |  x  |\n",
            "------------------\n",
            "  6  |  7  |  8  |\n",
            "------------------\n",
            "\n",
            "\n",
            "P2 :\n",
            "\n",
            "  0  |  1  |  2  |\n",
            "------------------\n",
            "  x  |  x  |  x  |\n",
            "------------------\n",
            "  6  |  7  |  8  |\n",
            "------------------\n",
            "\n",
            "P2 Wins!\n"
          ]
        },
        {
          "data": {
            "application/vnd.google.colaboratory.intrinsic+json": {
              "type": "string"
            },
            "text/plain": [
              "'P2'"
            ]
          },
          "execution_count": 156,
          "metadata": {},
          "output_type": "execute_result"
        }
      ],
      "source": [
        "random_vs_optimal()"
      ]
    },
    {
      "cell_type": "markdown",
      "metadata": {
        "id": "Vs4BORctMzAl"
      },
      "source": [
        "## You vs Optimal"
      ]
    },
    {
      "cell_type": "code",
      "execution_count": null,
      "metadata": {
        "id": "75ITiuSPMzAl"
      },
      "outputs": [],
      "source": [
        "def you_vs_optimal():\n",
        "    global current\n",
        "    board = [0, 1, 2, 3, 4, 5, 6, 7, 8]\n",
        "    current = []\n",
        "    print(\"You play as Player 1\\n\")\n",
        "    show(board, \"Board\")\n",
        "    print()\n",
        "    curr = [\"P1\", \"P2\"]\n",
        "    i = 0\n",
        "    while True:\n",
        "        if curr[i] == \"P1\":\n",
        "            valid_choice = [str(i) for i in range(9) if i in board]\n",
        "            while True:\n",
        "                cell = input(\"Please enter a valid cell (\" + \", \".join(valid_choice) + \"): \")\n",
        "                if cell in valid_choice:\n",
        "                    break\n",
        "            while True:\n",
        "                character = input(\"Please enter a valid character (x, o): \").lower()\n",
        "                if character in [\"x\", \"o\"]:\n",
        "                    break\n",
        "            print()\n",
        "            board[int(cell)] = character\n",
        "            show(board, curr[i])\n",
        "        elif curr[i] == \"P2\":\n",
        "            minimax(board, \"P2\")\n",
        "            show(current[len(current) - 1], \"P2\")\n",
        "            board = current[len(current) - 1]\n",
        "        print()\n",
        "        if check_all(board, \"x\") or check_all(board, \"o\"):\n",
        "            print(curr[i] + \" Wins!\")\n",
        "            return curr[i]\n",
        "        if check_draw(board):\n",
        "            print(\"Draw!\")\n",
        "            return \"Draw\"\n",
        "        i = (i + 1) % 2\n",
        "\n",
        "\n",
        "#you_vs_optimal()"
      ]
    }
  ],
  "metadata": {
    "accelerator": "GPU",
    "anaconda-cloud": {},
    "colab": {
      "provenance": []
    },
    "gpuClass": "standard",
    "kernelspec": {
      "display_name": "Python 3",
      "language": "python",
      "name": "python3"
    },
    "language_info": {
      "codemirror_mode": {
        "name": "ipython",
        "version": 3
      },
      "file_extension": ".py",
      "mimetype": "text/x-python",
      "name": "python",
      "nbconvert_exporter": "python",
      "pygments_lexer": "ipython3",
      "version": "3.7.6"
    }
  },
  "nbformat": 4,
  "nbformat_minor": 0
}